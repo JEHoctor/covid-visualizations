{
 "cells": [
  {
   "cell_type": "markdown",
   "id": "74bf893a",
   "metadata": {},
   "source": [
    "# Covid Visualizations\n",
    "\n",
    "Author: James Hoctor"
   ]
  },
  {
   "cell_type": "code",
   "execution_count": 1,
   "id": "d06c3a10",
   "metadata": {},
   "outputs": [],
   "source": [
    "import matplotlib.pyplot as plt\n",
    "import pandas as pd\n",
    "import seaborn as sns\n",
    "\n",
    "import covid"
   ]
  },
  {
   "cell_type": "code",
   "execution_count": 2,
   "id": "6930b508",
   "metadata": {},
   "outputs": [],
   "source": [
    "df = covid.data_loaders.get_historic_states_data()"
   ]
  },
  {
   "cell_type": "code",
   "execution_count": 3,
   "id": "de905b88",
   "metadata": {
    "scrolled": false
   },
   "outputs": [
    {
     "data": {
      "text/plain": [
       "date                                      1.000000\n",
       "country                                   1.000000\n",
       "state                                     1.000000\n",
       "county                                    0.000000\n",
       "fips                                      1.000000\n",
       "lat                                       0.000000\n",
       "long                                      0.000000\n",
       "locationId                                1.000000\n",
       "actuals.cases                             0.989539\n",
       "actuals.deaths                            0.990775\n",
       "actuals.positiveTests                     0.972579\n",
       "actuals.negativeTests                     0.980314\n",
       "actuals.contactTracers                    0.844761\n",
       "actuals.hospitalBeds.capacity             0.658678\n",
       "actuals.hospitalBeds.currentUsageTotal    0.658678\n",
       "actuals.hospitalBeds.currentUsageCovid    0.658678\n",
       "unused1                                   0.000000\n",
       "actuals.icuBeds.capacity                  0.658678\n",
       "actuals.icuBeds.currentUsageTotal         0.658678\n",
       "actuals.icuBeds.currentUsageCovid         0.658678\n",
       "unused2                                   0.000000\n",
       "actuals.newCases                          0.983579\n",
       "actuals.vaccinesDistributed               0.432366\n",
       "actuals.vaccinationsInitiated             0.431289\n",
       "actuals.vaccinationsCompleted             0.431289\n",
       "metrics.testPositivityRatio               0.970835\n",
       "metrics.testPositivityRatioDetails        0.000000\n",
       "metrics.caseDensity                       0.992836\n",
       "metrics.contactTracerCapacityRatio        0.837375\n",
       "metrics.infectionRate                     0.968648\n",
       "metrics.infectionRateCI90                 0.968648\n",
       "unused3                                   0.000000\n",
       "unused4                                   0.000000\n",
       "metrics.icuCapacityRatio                  0.658678\n",
       "riskLevels.overall                        1.000000\n",
       "metrics.vaccinationsInitiatedRatio        0.431289\n",
       "metrics.vaccinationsCompletedRatio        0.431289\n",
       "actuals.newDeaths                         0.983199\n",
       "actuals.vaccinesAdministered              0.432366\n",
       "riskLevels.caseDensity                    1.000000\n",
       "cdcTransmissionLevel                      1.000000\n",
       "dtype: float64"
      ]
     },
     "execution_count": 3,
     "metadata": {},
     "output_type": "execute_result"
    }
   ],
   "source": [
    "df.notna().mean()"
   ]
  },
  {
   "cell_type": "code",
   "execution_count": 4,
   "id": "d6903133",
   "metadata": {},
   "outputs": [
    {
     "data": {
      "text/plain": [
       "53"
      ]
     },
     "execution_count": 4,
     "metadata": {},
     "output_type": "execute_result"
    }
   ],
   "source": [
    "df[\"state\"].nunique()"
   ]
  },
  {
   "cell_type": "code",
   "execution_count": 5,
   "id": "72422b9f",
   "metadata": {},
   "outputs": [
    {
     "data": {
      "text/plain": [
       "0.5687113647170708"
      ]
     },
     "execution_count": 5,
     "metadata": {},
     "output_type": "execute_result"
    }
   ],
   "source": [
    "df[\"metrics.vaccinationsCompletedRatio\"].isna().mean()"
   ]
  },
  {
   "cell_type": "code",
   "execution_count": 6,
   "id": "c87fdb14",
   "metadata": {},
   "outputs": [
    {
     "data": {
      "image/png": "[encoded data removed]",
      "text/plain": [
       "<Figure size 720x432 with 1 Axes>"
      ]
     },
     "metadata": {
      "needs_background": "light"
     },
     "output_type": "display_data"
    }
   ],
   "source": [
    "fig, ax = plt.subplots(figsize=(10, 6))\n",
    "\n",
    "ny_df = df[df[\"state\"] == \"NY\"]\n",
    "\n",
    "to_plot_p1 = ny_df \\\n",
    "    [[\"date\", \"metrics.vaccinationsInitiatedRatio\"]] \\\n",
    "    .rename(columns={\n",
    "        \"metrics.vaccinationsInitiatedRatio\": \"Vaccination Ratio\"\n",
    "    })\n",
    "to_plot_p1[\"Initated or Completed\"] = \"Initated\"\n",
    "\n",
    "to_plot_p2 = ny_df \\\n",
    "    [[\"date\", \"metrics.vaccinationsCompletedRatio\"]] \\\n",
    "    .rename(columns={\n",
    "        \"metrics.vaccinationsCompletedRatio\": \"Vaccination Ratio\"\n",
    "    })\n",
    "to_plot_p2[\"Initated or Completed\"] = \"Completed\"\n",
    "\n",
    "to_plot = pd.concat(\n",
    "    (to_plot_p1, to_plot_p2),\n",
    "    ignore_index=True,\n",
    ")\n",
    "\n",
    "sns.lineplot(\n",
    "    x=\"date\",\n",
    "    y=\"Vaccination Ratio\",\n",
    "    hue=\"Initated or Completed\",\n",
    "    data=to_plot,\n",
    "    ax=ax,\n",
    ")\n",
    "\n",
    "ax.set_ylim(-0.05, 1.05)\n",
    "ax.set_title(\"Vaccination Rates in New York State\");"
   ]
  }
 ],
 "metadata": {
  "kernelspec": {
   "display_name": "Python 3 (ipykernel)",
   "language": "python",
   "name": "python3"
  },
  "language_info": {
   "codemirror_mode": {
    "name": "ipython",
    "version": 3
   },
   "file_extension": ".py",
   "mimetype": "text/x-python",
   "name": "python",
   "nbconvert_exporter": "python",
   "pygments_lexer": "ipython3",
   "version": "3.9.7"
  }
 },
 "nbformat": 4,
 "nbformat_minor": 5
}
